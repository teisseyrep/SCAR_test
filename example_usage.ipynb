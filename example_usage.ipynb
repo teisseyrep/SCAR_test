{
 "cells": [
  {
   "cell_type": "markdown",
   "metadata": {},
   "source": [
    "## Example usage ##\n",
    "\n",
    "\n",
    "### Set the experiment parameters: ###\n",
    "\n",
    "1. `ds` is the name of the dataset, which is placed in /data folder.\n",
    "2. `$c\\in[0,1]$` is label frequency P(S=1|Y=1)\n",
    "3. `$g\\geq 0$` is a parameter for labelling schemes S1-S3. It describes how 'far' the generated PU data are from the null hypothesis of SCAR. Value $g=0$ means that our PU data follows SCAR assumption, value $g>0$ means that our PU data corresponds to SAR.\n",
    "4. `label_scheme` is labeling scheme. Scheme S0 is SCAR, whereas S1-S3 are SAR schemes considered in the paper.\n",
    "5. `stat` is the type of test statistic. Possible test statistics are: kl, klcov, ks and nb.\n",
    "6. `B` is the number of repetitions. The higher the value of parameter B, the better the approximation of the distribution under H0, but at the same time the\n",
    "greater the computational cost.\n",
    "7. `clf` is base classifier. Any scikit-learn classifier can be used."
   ]
  },
  {
   "cell_type": "code",
   "execution_count": 16,
   "metadata": {},
   "outputs": [],
   "source": [
    "import numpy as np\n",
    "import pandas as pd\n",
    "from labelling import make_pu_labels\n",
    "from utils import  make_binary_class, remove_collinear\n",
    "from scar import make_scar_test\n",
    "from sklearn.ensemble import RandomForestClassifier\n",
    "\n",
    "\n",
    "ds = 'Breast-w'\n",
    "c = 0.3\n",
    "g = 5\n",
    "label_scheme = \"S1\"\n",
    "stat = 'ks'\n",
    "B = 200\n",
    "clf = RandomForestClassifier()    "
   ]
  },
  {
   "cell_type": "markdown",
   "metadata": {},
   "source": [
    "### Load and prepare data: ###"
   ]
  },
  {
   "cell_type": "code",
   "execution_count": 17,
   "metadata": {},
   "outputs": [],
   "source": [
    "\n",
    "df_name = 'data/' + ds + '.csv'\n",
    "df = pd.read_csv(df_name, sep=',')\n",
    "if np.where(df.columns.values==\"BinClass\")[0].shape[0]>0:\n",
    "    del df['BinClass']\n",
    "df = df.to_numpy()\n",
    "p = df.shape[1]-1\n",
    "y = df[:,p]\n",
    "y = make_binary_class(y)\n",
    "X = df[:,0:p]\n",
    "selected_columns = remove_collinear(X,0.95)\n",
    "X = X[:,selected_columns]\n",
    "hat_y = np.mean(y)"
   ]
  },
  {
   "cell_type": "markdown",
   "metadata": {},
   "source": [
    "### Create PU dataset: ###"
   ]
  },
  {
   "cell_type": "code",
   "execution_count": 18,
   "metadata": {},
   "outputs": [],
   "source": [
    "s, ex_true, a = make_pu_labels(X,y,label_scheme=label_scheme,c=c,g=g)"
   ]
  },
  {
   "cell_type": "markdown",
   "metadata": {},
   "source": [
    "### Run SCAR test: ###"
   ]
  },
  {
   "cell_type": "code",
   "execution_count": 19,
   "metadata": {},
   "outputs": [],
   "source": [
    "hat_s = np.mean(s)\n",
    "hat_c = hat_s/hat_y\n",
    "reject, pv, Tstat, Tstat0 = make_scar_test(X,s,hat_c,clf,B=B,alpha=0.05,stat=stat)"
   ]
  },
  {
   "cell_type": "markdown",
   "metadata": {},
   "source": [
    "### Analyze the results ###"
   ]
  },
  {
   "cell_type": "code",
   "execution_count": 20,
   "metadata": {},
   "outputs": [
    {
     "name": "stdout",
     "output_type": "stream",
     "text": [
      "H0 rejected (yes=1, no = 0):  1 \n",
      "\n",
      "p-value:  0.005 \n",
      "\n",
      "Observed test statistic:  0.8208852005532504 \n",
      "\n",
      "95% quantile of the generated null distribution of the test statistic: 0.6961032494476473 \n",
      "\n",
      "Generated null distribution of the test statistic:  [0.62352557 0.6846473  0.37561298 0.48106518 0.62245851 0.44628306\n",
      " 0.78843234 0.54309694 0.47656694 0.58290877 0.57963219 0.60596281\n",
      " 0.54646803 0.43171374 0.42279391 0.47360907 0.48547718 0.45298149\n",
      " 0.57247265 0.48557042 0.57730946 0.39579063 0.63007511 0.51175657\n",
      " 0.7627683  0.44892536 0.68532854 0.46125639 0.46013098 0.56093033\n",
      " 0.57969841 0.53840704 0.65343047 0.60611274 0.51789114 0.52061558\n",
      " 0.39992937 0.52192661 0.58636633 0.41554633 0.40083987 0.53457087\n",
      " 0.59421087 0.48158081 0.47950207 0.5119586  0.43672199 0.54070876\n",
      " 0.54199456 0.36209941 0.5947284  0.54717447 0.46223123 0.43623456\n",
      " 0.54086438 0.59939207 0.54414745 0.58563854 0.53052756 0.54209313\n",
      " 0.47699802 0.71509403 0.54220598 0.55681818 0.5560166  0.62201146\n",
      " 0.41200879 0.58225703 0.45043799 0.50627406 0.62188797 0.62990962\n",
      " 0.47776422 0.53485933 0.40871369 0.65880561 0.46892116 0.57666699\n",
      " 0.36266462 0.59391091 0.66431079 0.62061231 0.7349858  0.5461012\n",
      " 0.4619807  0.57638627 0.53847195 0.45068292 0.54580274 0.43709921\n",
      " 0.57766335 0.49876451 0.46586194 0.64157021 0.49470408 0.544754\n",
      " 0.61980703 0.51899553 0.46387914 0.62627939 0.42697997 0.62371973\n",
      " 0.50366623 0.62339888 0.4682869  0.64747823 0.57063163 0.54949615\n",
      " 0.54149378 0.50412658 0.45371651 0.48344759 0.50445242 0.38205845\n",
      " 0.59187542 0.86481765 0.42795172 0.72786999 0.53448865 0.68266028\n",
      " 0.55102746 0.53027995 0.6193744  0.45677325 0.42283657 0.44991108\n",
      " 0.62174881 0.44028396 0.47830541 0.56445843 0.32247789 0.7921263\n",
      " 0.53602874 0.66441909 0.59314261 0.46148078 0.52765438 0.46919885\n",
      " 0.58864812 0.45703041 0.5746356  0.8152995  0.44716781 0.54471312\n",
      " 0.69510373 0.55625037 0.7198937  0.53646337 0.39821258 0.41059079\n",
      " 0.68806135 0.39229548 0.55078946 0.6063943  0.538813   0.52494342\n",
      " 0.405861   0.51532441 0.48780488 0.4816207  0.42183835 0.44608194\n",
      " 0.5527893  0.5945136  0.53966033 0.50188608 0.54846773 0.51523669\n",
      " 0.44544252 0.56402586 0.46841863 0.58582127 0.71986641 0.37309084\n",
      " 0.51651872 0.52644498 0.40399849 0.47026279 0.46743221 0.44842227\n",
      " 0.49718638 0.57180579 0.55568016 0.52405651 0.46874288 0.42176956\n",
      " 0.5226679  0.57448133 0.56514523 0.58596659 0.46946484 0.53093592\n",
      " 0.49479907 0.34462633 0.50304582 0.52617838 0.45525332 0.59673977\n",
      " 0.35965464 0.52541494] \n",
      "\n"
     ]
    }
   ],
   "source": [
    "print(\"H0 rejected (yes=1, no = 0): \", reject,'\\n')\n",
    "print(\"p-value: \", pv,'\\n')\n",
    "print(\"Observed test statistic: \",Tstat0,'\\n')\n",
    "print(\"95% quantile of the generated null distribution of the test statistic:\",np.quantile(Tstat,0.95),'\\n')\n",
    "print(\"Generated null distribution of the test statistic: \" ,Tstat,'\\n')"
   ]
  }
 ],
 "metadata": {
  "kernelspec": {
   "display_name": "pt",
   "language": "python",
   "name": "python3"
  },
  "language_info": {
   "codemirror_mode": {
    "name": "ipython",
    "version": 3
   },
   "file_extension": ".py",
   "mimetype": "text/x-python",
   "name": "python",
   "nbconvert_exporter": "python",
   "pygments_lexer": "ipython3",
   "version": "3.11.7"
  }
 },
 "nbformat": 4,
 "nbformat_minor": 2
}
